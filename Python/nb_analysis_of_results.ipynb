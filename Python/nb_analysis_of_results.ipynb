{
 "cells": [
  {
   "cell_type": "code",
   "execution_count": 6,
   "metadata": {},
   "outputs": [],
   "source": [
    "import numpy as np\n",
    "import pandas as pd\n",
    "import pickle\n",
    "import matplotlib.pyplot as plt\n",
    "import pystan\n",
    "from helper_func_diagnostics import plot_trace, calc_mape, calc_rmse, calc_median_ape"
   ]
  },
  {
   "cell_type": "code",
   "execution_count": 45,
   "metadata": {},
   "outputs": [],
   "source": [
    "PATH_TO_RESULTS = \"../results/\"\n",
    "MODELS_TO_ANALYSE = [\"pred_base\"]\n",
    "TRAINING_SET_SIZE = \"20\""
   ]
  },
  {
   "cell_type": "markdown",
   "metadata": {},
   "source": [
    "## Make prediction data frame"
   ]
  },
  {
   "cell_type": "code",
   "execution_count": 47,
   "metadata": {},
   "outputs": [
    {
     "name": "stdout",
     "output_type": "stream",
     "text": [
      "MAPE:  0.9992698237820821\n"
     ]
    }
   ],
   "source": [
    "for mod in MODELS_TO_ANALYSE:\n",
    "    final_path_to_pkl = PATH_TO_RESULTS + \"fit_\" + MODEL_TO_ANALYSE + \"_\" + TRAINING_SET_SIZE + \".pkl\"\n",
    "    with open(final_path_to_pkl, \"rb\") as f:\n",
    "        data_dict = pickle.load(f)\n",
    "        fit = data_dict['fit']\n",
    "        y_hat = data_dict['y_hat']\n",
    "        y_test = data_dict['y_test']\n",
    "        X_test = data_dict['X_test']\n",
    "        summary_dict = fit.summary()\n",
    "        sum_df = pd.DataFrame(summary_dict['summary'],\n",
    "                              columns=summary_dict['summary_colnames'],\n",
    "                              index=summary_dict['summary_rownames'])\n",
    "        print(\"MAPE: \", calc_mape(y_hat, y_test))\n",
    "        # print(\"MAPE: \", calc_mape(np.exp(y_hat), np.exp(y_test)))\n",
    "        df_pred = pd.DataFrame(np.vstack((y_test.ravel(), y_hat)).T, columns=[\"true\", \"pred\"])\n",
    "        df_pred[\"model\"] = mod\n",
    "        # df_pred.index = X_test.index\n",
    "        try:\n",
    "            betas = [sum_df.loc[\"beta[1,{}]\".format(i+1)][\"mean\"] for i in range(X_test.shape[1])]\n",
    "            print(\"sum weights = \", np.sum(np.abs(betas)))\n",
    "        except:\n",
    "            pass"
   ]
  },
  {
   "cell_type": "markdown",
   "metadata": {},
   "source": [
    "## Visual analysis of posterior distribution"
   ]
  },
  {
   "cell_type": "code",
   "execution_count": null,
   "metadata": {},
   "outputs": [],
   "source": [
    "# # retrieve parameters\n",
    "# alpha_fit = pois_samps['beta']\n",
    "# sigma_fit = pois_samps['sigma']\n",
    "# length_scale = pois_samps['length_scale']\n",
    "# # plot results\n",
    "# plot_trace(alpha_fit, 'alpha')\n",
    "# plt.show()\n",
    "# plot_trace(length_scale, 'length scale')\n",
    "# plt.show()\n",
    "# plot_trace(sigma_fit, 'sigma')\n",
    "# plt.show()"
   ]
  }
 ],
 "metadata": {
  "kernelspec": {
   "display_name": "Python 3",
   "language": "python",
   "name": "python3"
  },
  "language_info": {
   "codemirror_mode": {
    "name": "ipython",
    "version": 3
   },
   "file_extension": ".py",
   "mimetype": "text/x-python",
   "name": "python",
   "nbconvert_exporter": "python",
   "pygments_lexer": "ipython3",
   "version": "3.7.6"
  }
 },
 "nbformat": 4,
 "nbformat_minor": 2
}
