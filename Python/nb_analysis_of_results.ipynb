{
 "cells": [
  {
   "cell_type": "code",
   "execution_count": 713,
   "metadata": {},
   "outputs": [],
   "source": [
    "import numpy as np\n",
    "import pandas as pd\n",
    "import pickle\n",
    "import matplotlib.pyplot as plt\n",
    "import pystan\n",
    "import seaborn as sns\n",
    "from collections import defaultdict\n",
    "from sklearn.metrics import mean_squared_error\n",
    "from helper_func_diagnostics import plot_trace, calc_mape, calc_rmse, calc_median_ape"
   ]
  },
  {
   "cell_type": "code",
   "execution_count": 714,
   "metadata": {},
   "outputs": [],
   "source": [
    "def calc_rmse_on_log_scale(g):\n",
    "    rmse = np.sqrt(mean_squared_error(g['true'], g['pred']))\n",
    "    return pd.Series(dict(rmse=np.log(rmse)))"
   ]
  },
  {
   "cell_type": "code",
   "execution_count": 715,
   "metadata": {},
   "outputs": [],
   "source": [
    "# specify the model to be loaded\n",
    "PATH_TO_RESULTS = \"../results/\"\n",
    "MODELS_TO_ANALYSE = [\"pred_base\", \"pred_horseshoe\", \"pred_gp\"] # pred_gp\n",
    "TRAINING_SET_SIZE = [\"15\", \"20\", \"30\", \"40\", \"80\", \"120\", \"180\"] # , \"20\", \"30\", \"50\", \"80\", \"120\", \"180\"\n",
    "seed_list = [1348]"
   ]
  },
  {
   "cell_type": "markdown",
   "metadata": {},
   "source": [
    "## Make prediction data frame"
   ]
  },
  {
   "cell_type": "code",
   "execution_count": 716,
   "metadata": {},
   "outputs": [
    {
     "name": "stdout",
     "output_type": "stream",
     "text": [
      "MAPE for model pred_base:  40.157309924130765\n",
      "sum weights for model pred_base and size 15 =  15.059728403226668\n",
      "MAPE for model pred_base:  15.459529647340657\n",
      "sum weights for model pred_base and size 20 =  20.216065320369474\n",
      "MAPE for model pred_base:  0.41312457294058685\n",
      "sum weights for model pred_base and size 30 =  6.461593037546782\n",
      "MAPE for model pred_base:  0.45472104743208946\n",
      "sum weights for model pred_base and size 40 =  12.204272294808831\n",
      "MAPE for model pred_base:  0.29862164058431784\n",
      "sum weights for model pred_base and size 80 =  6.2221941379271195\n",
      "MAPE for model pred_base:  0.3357920526560172\n",
      "sum weights for model pred_base and size 120 =  5.959295856873485\n",
      "MAPE for model pred_base:  0.28298083267156127\n",
      "sum weights for model pred_base and size 180 =  4.542379677076882\n",
      "MAPE for model pred_horseshoe:  1.7013922352481086\n",
      "sum weights for model pred_horseshoe and size 15 =  26.458665914759948\n",
      "MAPE for model pred_horseshoe:  1.2480518928081599\n",
      "sum weights for model pred_horseshoe and size 20 =  18.97245111760702\n",
      "MAPE for model pred_horseshoe:  0.41291598391961776\n",
      "sum weights for model pred_horseshoe and size 30 =  5.476641688972813\n",
      "MAPE for model pred_horseshoe:  0.45732171591589027\n",
      "sum weights for model pred_horseshoe and size 40 =  12.141435469345545\n",
      "MAPE for model pred_horseshoe:  0.29858061771412964\n",
      "sum weights for model pred_horseshoe and size 80 =  6.213537064408971\n",
      "MAPE for model pred_horseshoe:  0.33584198956651545\n",
      "sum weights for model pred_horseshoe and size 120 =  5.9542818220517315\n",
      "MAPE for model pred_horseshoe:  0.28277100415294987\n",
      "sum weights for model pred_horseshoe and size 180 =  4.526050541353377\n",
      "MAPE for model pred_gp:  0.4517557358194075\n",
      "MAPE for model pred_gp:  0.432691654867906\n",
      "MAPE for model pred_gp:  0.41375391470438166\n",
      "MAPE for model pred_gp:  0.3599583731575846\n",
      "MAPE for model pred_gp:  0.32726675548839357\n",
      "MAPE for model pred_gp:  0.29113976634724076\n",
      "MAPE for model pred_gp:  0.2569994275585197\n"
     ]
    }
   ],
   "source": [
    "pred_dfs = []\n",
    "runtime_dict = defaultdict(dict)\n",
    "beta_sums = defaultdict(dict)\n",
    "for seed in seed_list:\n",
    "    for mod in MODELS_TO_ANALYSE:\n",
    "        for n in TRAINING_SET_SIZE:\n",
    "            final_path_to_pkl = PATH_TO_RESULTS + \"fit_\" + mod + \"_\" + n + \"_\" + str(seed) + \".pkl\" # \n",
    "            with open(final_path_to_pkl, \"rb\") as f:\n",
    "                data_dict = pickle.load(f)\n",
    "                fit = data_dict['fit']\n",
    "                y_hat = data_dict['y_hat']\n",
    "                y_test = data_dict['y_test']\n",
    "                X_test = data_dict['X_test']\n",
    "                runtime = data_dict['runtime']\n",
    "                summary_dict = fit.summary()\n",
    "                sum_df = pd.DataFrame(summary_dict['summary'],\n",
    "                                      columns=summary_dict['summary_colnames'],\n",
    "                                      index=summary_dict['summary_rownames'])\n",
    "                print(\"MAPE for model {}: \".format(mod), calc_mape(y_hat, y_test))\n",
    "                # print(\"MAPE: \", calc_mape(np.exp(y_hat), np.exp(y_test)))\n",
    "                df_pred = pd.DataFrame(np.vstack((y_test.ravel(), y_hat)).T, columns=[\"true\", \"pred\"])\n",
    "                df_pred[\"model\"] = mod\n",
    "                df_pred[\"n\"] = int(n)\n",
    "                df_pred[\"seed\"] = seed\n",
    "                pred_dfs.append(df_pred)\n",
    "                runtime_dict[mod][n] = runtime\n",
    "                # df_pred.index = X_test.index\n",
    "                try:\n",
    "                    betas = [sum_df.loc[\"beta[1,{}]\".format(i+1)][\"mean\"] for i in range(X_test.shape[1])]\n",
    "                    beta_sums[mod][n] = np.sum(np.abs(betas))\n",
    "                    print(\"sum weights for model {} and size {} = \".format(mod, n), np.sum(np.abs(betas)))\n",
    "                except:\n",
    "                    pass"
   ]
  },
  {
   "cell_type": "code",
   "execution_count": 717,
   "metadata": {},
   "outputs": [],
   "source": [
    "cmap = sns.color_palette(\"cubehelix\", 8)\n",
    "cmap = [cmap[0], cmap[5], cmap[6]]"
   ]
  },
  {
   "cell_type": "code",
   "execution_count": 718,
   "metadata": {},
   "outputs": [],
   "source": [
    "beta_df = pd.DataFrame.from_dict({(i): beta_sums[i]\n",
    "                           for i in beta_sums.keys()},\n",
    "                       orient='index')"
   ]
  },
  {
   "cell_type": "code",
   "execution_count": 719,
   "metadata": {},
   "outputs": [
    {
     "data": {
      "text/html": [
       "<div>\n",
       "<style scoped>\n",
       "    .dataframe tbody tr th:only-of-type {\n",
       "        vertical-align: middle;\n",
       "    }\n",
       "\n",
       "    .dataframe tbody tr th {\n",
       "        vertical-align: top;\n",
       "    }\n",
       "\n",
       "    .dataframe thead th {\n",
       "        text-align: right;\n",
       "    }\n",
       "</style>\n",
       "<table border=\"1\" class=\"dataframe\">\n",
       "  <thead>\n",
       "    <tr style=\"text-align: right;\">\n",
       "      <th></th>\n",
       "      <th>15</th>\n",
       "      <th>20</th>\n",
       "      <th>30</th>\n",
       "      <th>40</th>\n",
       "      <th>80</th>\n",
       "      <th>120</th>\n",
       "      <th>180</th>\n",
       "    </tr>\n",
       "  </thead>\n",
       "  <tbody>\n",
       "    <tr>\n",
       "      <th>pred_base</th>\n",
       "      <td>15.059728</td>\n",
       "      <td>20.216065</td>\n",
       "      <td>6.461593</td>\n",
       "      <td>12.204272</td>\n",
       "      <td>6.222194</td>\n",
       "      <td>5.959296</td>\n",
       "      <td>4.542380</td>\n",
       "    </tr>\n",
       "    <tr>\n",
       "      <th>pred_horseshoe</th>\n",
       "      <td>26.458666</td>\n",
       "      <td>18.972451</td>\n",
       "      <td>5.476642</td>\n",
       "      <td>12.141435</td>\n",
       "      <td>6.213537</td>\n",
       "      <td>5.954282</td>\n",
       "      <td>4.526051</td>\n",
       "    </tr>\n",
       "  </tbody>\n",
       "</table>\n",
       "</div>"
      ],
      "text/plain": [
       "                       15         20        30         40        80       120  \\\n",
       "pred_base       15.059728  20.216065  6.461593  12.204272  6.222194  5.959296   \n",
       "pred_horseshoe  26.458666  18.972451  5.476642  12.141435  6.213537  5.954282   \n",
       "\n",
       "                     180  \n",
       "pred_base       4.542380  \n",
       "pred_horseshoe  4.526051  "
      ]
     },
     "execution_count": 719,
     "metadata": {},
     "output_type": "execute_result"
    }
   ],
   "source": [
    "beta_df"
   ]
  },
  {
   "cell_type": "code",
   "execution_count": 720,
   "metadata": {},
   "outputs": [],
   "source": [
    "perf_df = []"
   ]
  },
  {
   "cell_type": "code",
   "execution_count": 756,
   "metadata": {},
   "outputs": [
    {
     "data": {
      "text/html": [
       "<div>\n",
       "<style scoped>\n",
       "    .dataframe tbody tr th:only-of-type {\n",
       "        vertical-align: middle;\n",
       "    }\n",
       "\n",
       "    .dataframe tbody tr th {\n",
       "        vertical-align: top;\n",
       "    }\n",
       "\n",
       "    .dataframe thead th {\n",
       "        text-align: right;\n",
       "    }\n",
       "</style>\n",
       "<table border=\"1\" class=\"dataframe\">\n",
       "  <thead>\n",
       "    <tr style=\"text-align: right;\">\n",
       "      <th></th>\n",
       "      <th>15</th>\n",
       "      <th>20</th>\n",
       "      <th>30</th>\n",
       "      <th>40</th>\n",
       "      <th>80</th>\n",
       "      <th>120</th>\n",
       "      <th>180</th>\n",
       "    </tr>\n",
       "  </thead>\n",
       "  <tbody>\n",
       "    <tr>\n",
       "      <th>pred_base</th>\n",
       "      <td>49.184174</td>\n",
       "      <td>59.023243</td>\n",
       "      <td>61.530437</td>\n",
       "      <td>65.135269</td>\n",
       "      <td>98.127105</td>\n",
       "      <td>119.503087</td>\n",
       "      <td>173.317119</td>\n",
       "    </tr>\n",
       "    <tr>\n",
       "      <th>pred_horseshoe</th>\n",
       "      <td>42.436576</td>\n",
       "      <td>52.208850</td>\n",
       "      <td>56.039332</td>\n",
       "      <td>65.871870</td>\n",
       "      <td>94.331611</td>\n",
       "      <td>120.061425</td>\n",
       "      <td>169.747159</td>\n",
       "    </tr>\n",
       "    <tr>\n",
       "      <th>pred_gp</th>\n",
       "      <td>26.679537</td>\n",
       "      <td>31.838336</td>\n",
       "      <td>87.500574</td>\n",
       "      <td>177.604231</td>\n",
       "      <td>824.667681</td>\n",
       "      <td>2548.211516</td>\n",
       "      <td>8828.174705</td>\n",
       "    </tr>\n",
       "  </tbody>\n",
       "</table>\n",
       "</div>"
      ],
      "text/plain": [
       "                       15         20         30          40          80  \\\n",
       "pred_base       49.184174  59.023243  61.530437   65.135269   98.127105   \n",
       "pred_horseshoe  42.436576  52.208850  56.039332   65.871870   94.331611   \n",
       "pred_gp         26.679537  31.838336  87.500574  177.604231  824.667681   \n",
       "\n",
       "                        120          180  \n",
       "pred_base        119.503087   173.317119  \n",
       "pred_horseshoe   120.061425   169.747159  \n",
       "pred_gp         2548.211516  8828.174705  "
      ]
     },
     "execution_count": 756,
     "metadata": {},
     "output_type": "execute_result"
    }
   ],
   "source": [
    "runtime_df = pd.DataFrame.from_dict({(i): runtime_dict[i]\n",
    "                           for i in runtime_dict.keys()},\n",
    "                       orient='index')\n",
    "runtime_df"
   ]
  },
  {
   "cell_type": "code",
   "execution_count": 757,
   "metadata": {},
   "outputs": [],
   "source": [
    "runtime_df =  runtime_df.apply(lambda x: np.log(x))"
   ]
  },
  {
   "cell_type": "code",
   "execution_count": 753,
   "metadata": {},
   "outputs": [],
   "source": [
    "runtime_df = runtime_df.T\n",
    "# perf_df.append(runtime_df)"
   ]
  },
  {
   "cell_type": "code",
   "execution_count": 754,
   "metadata": {},
   "outputs": [
    {
     "data": {
      "image/png": "[encoded data removed]",
      "text/plain": [
       "<Figure size 432x288 with 1 Axes>"
      ]
     },
     "metadata": {
      "needs_background": "light"
     },
     "output_type": "display_data"
    }
   ],
   "source": [
    "runtime_df.plot(color=cmap)\n",
    "plt.ylabel(\"Runtime in Seconds (log scale)\")\n",
    "plt.xlabel(\"Size of training set\")\n",
    "plt.savefig(\"../figures/runtime_comp_models\")\n",
    "plt.show()"
   ]
  },
  {
   "cell_type": "code",
   "execution_count": 725,
   "metadata": {},
   "outputs": [],
   "source": [
    "df = pd.concat(pred_dfs, axis=0)"
   ]
  },
  {
   "cell_type": "code",
   "execution_count": 726,
   "metadata": {},
   "outputs": [],
   "source": [
    "err_df = df.groupby([\"model\", \"n\"]).apply(calc_rmse_on_log_scale)"
   ]
  },
  {
   "cell_type": "code",
   "execution_count": 727,
   "metadata": {},
   "outputs": [],
   "source": [
    "err_df = pd.DataFrame(err_df).reset_index().pivot(index=\"n\", columns=\"model\", values=\"rmse\")"
   ]
  },
  {
   "cell_type": "code",
   "execution_count": 728,
   "metadata": {},
   "outputs": [],
   "source": [
    "err_df.index = err_df.index.astype(str)\n",
    "perf_df.append(err_df)"
   ]
  },
  {
   "cell_type": "code",
   "execution_count": 729,
   "metadata": {},
   "outputs": [
    {
     "data": {
      "image/png": "[encoded data removed]",
      "text/plain": [
       "<Figure size 432x288 with 1 Axes>"
      ]
     },
     "metadata": {
      "needs_background": "light"
     },
     "output_type": "display_data"
    }
   ],
   "source": [
    "err_df.plot(xticks=range(len(err_df.index)), color=cmap)\n",
    "plt.ylabel(\"RMSE (log scale)\")\n",
    "plt.xlabel(\"Size of training set\")\n",
    "plt.savefig(\"../figures/rmse_comp_models\")"
   ]
  },
  {
   "cell_type": "code",
   "execution_count": 730,
   "metadata": {},
   "outputs": [],
   "source": [
    "df[\"abs_error\"] = np.abs(df.true - df.pred)\n",
    "df[\"abs_perc_error\"] = df.abs_error / df.true\n",
    "df[\"sq_error\"] = (df.true - df.pred)**2"
   ]
  },
  {
   "cell_type": "code",
   "execution_count": 731,
   "metadata": {},
   "outputs": [],
   "source": [
    "err_df = df.groupby([\"model\", \"n\"])[\"abs_perc_error\"].mean()\n",
    "err_df = pd.DataFrame(err_df).reset_index()\n",
    "err_df = err_df.pivot(index=\"n\", columns=\"model\", values=\"abs_perc_error\")"
   ]
  },
  {
   "cell_type": "code",
   "execution_count": 732,
   "metadata": {},
   "outputs": [],
   "source": [
    "err_df.index = err_df.index.astype(str)\n",
    "perf_df.append(err_df)"
   ]
  },
  {
   "cell_type": "code",
   "execution_count": 733,
   "metadata": {},
   "outputs": [
    {
     "data": {
      "image/png": "[encoded data removed]",
      "text/plain": [
       "<Figure size 432x288 with 1 Axes>"
      ]
     },
     "metadata": {
      "needs_background": "light"
     },
     "output_type": "display_data"
    }
   ],
   "source": [
    "err_df.plot(xticks=range(len(err_df.index)), rot=90, color=cmap)\n",
    "plt.ylabel(\"MAPE\")\n",
    "plt.xlabel(\"Size of training set\")\n",
    "plt.savefig(\"../figures/mape_comp_models\")\n",
    "plt.show()"
   ]
  },
  {
   "cell_type": "code",
   "execution_count": 734,
   "metadata": {},
   "outputs": [],
   "source": [
    "perf_df = pd.concat(perf_df, axis=1, keys=[\"log RMSE\", \"MAPE\"])"
   ]
  },
  {
   "cell_type": "code",
   "execution_count": 735,
   "metadata": {},
   "outputs": [],
   "source": [
    "perf_df = perf_df.apply(lambda x: np.round(x, 2))"
   ]
  },
  {
   "cell_type": "code",
   "execution_count": 736,
   "metadata": {},
   "outputs": [
    {
     "name": "stdout",
     "output_type": "stream",
     "text": [
      "\\begin{tabular}{lrrrrrr}\n",
      "\\toprule\n",
      "{} & \\multicolumn{3}{l}{log RMSE} & \\multicolumn{3}{l}{MAPE} \\\\\n",
      "model & pred\\_base & pred\\_gp & pred\\_horseshoe & pred\\_base & pred\\_gp & pred\\_horseshoe \\\\\n",
      "n   &           &         &                &           &         &                \\\\\n",
      "\\midrule\n",
      "15  &     23.48 &   18.28 &          20.82 &     40.16 &    0.45 &           1.70 \\\\\n",
      "20  &     21.91 &   18.39 &          19.28 &     15.46 &    0.43 &           1.25 \\\\\n",
      "30  &     18.48 &   18.08 &          18.47 &      0.41 &    0.41 &           0.41 \\\\\n",
      "40  &     18.04 &   18.23 &          18.07 &      0.45 &    0.36 &           0.46 \\\\\n",
      "80  &     17.54 &   17.80 &          17.54 &      0.30 &    0.33 &           0.30 \\\\\n",
      "120 &     17.74 &   17.78 &          17.74 &      0.34 &    0.29 &           0.34 \\\\\n",
      "180 &     17.56 &   17.75 &          17.56 &      0.28 &    0.26 &           0.28 \\\\\n",
      "\\bottomrule\n",
      "\\end{tabular}\n",
      "\n"
     ]
    }
   ],
   "source": [
    "print(perf_df.to_latex())"
   ]
  },
  {
   "cell_type": "markdown",
   "metadata": {},
   "source": [
    "## Visual analysis of posterior distribution"
   ]
  },
  {
   "cell_type": "code",
   "execution_count": 558,
   "metadata": {},
   "outputs": [],
   "source": [
    "# specify the model to be loaded\n",
    "PATH_TO_RESULTS = \"../results/\"\n",
    "MODEL_TO_ANALYSE = \"pred_gp\"\n",
    "TRAINING_SET_SIZE = \"180\" # , \"20\", \"30\", \"50\", \"80\", \"120\", \"180\"\n",
    "SEED = 1348"
   ]
  },
  {
   "cell_type": "code",
   "execution_count": 559,
   "metadata": {},
   "outputs": [],
   "source": [
    "final_path_to_pkl = PATH_TO_RESULTS + \"fit_\" + MODEL_TO_ANALYSE + \"_\" + TRAINING_SET_SIZE + \"_\" + str(seed) +  \".pkl\"\n",
    "with open(final_path_to_pkl, \"rb\") as f:\n",
    "    data_dict = pickle.load(f)\n",
    "    fit = data_dict['fit']\n",
    "    y_hat = data_dict['y_hat']\n",
    "    y_test = data_dict['y_test']\n",
    "    X_test = data_dict['X_test']\n",
    "    summary_dict = fit.summary()\n",
    "    sum_df = pd.DataFrame(summary_dict['summary'],\n",
    "                          columns=summary_dict['summary_colnames'],\n",
    "                          index=summary_dict['summary_rownames'])"
   ]
  },
  {
   "cell_type": "code",
   "execution_count": 561,
   "metadata": {},
   "outputs": [
    {
     "data": {
      "image/png": "[encoded data removed]",
      "text/plain": [
       "<Figure size 432x288 with 2 Axes>"
      ]
     },
     "metadata": {
      "needs_background": "light"
     },
     "output_type": "display_data"
    }
   ],
   "source": [
    "plot_trace(fit.extract()[\"length_scale\"], \"'length_scale'\")\n",
    "plt.savefig(\"../figures/posterior_length_scale.png\")"
   ]
  },
  {
   "cell_type": "markdown",
   "metadata": {},
   "source": [
    "# Analysis of beta coefficients in parametric regression"
   ]
  },
  {
   "cell_type": "code",
   "execution_count": 627,
   "metadata": {},
   "outputs": [],
   "source": [
    "# specify the model to be loaded\n",
    "PATH_TO_RESULTS = \"../results/\"\n",
    "MODEL_TO_ANALYSE = \"pred_base\"\n",
    "TRAINING_SET_SIZE = \"180\"\n",
    "SEED = 412"
   ]
  },
  {
   "cell_type": "code",
   "execution_count": 628,
   "metadata": {},
   "outputs": [],
   "source": [
    "final_path_to_pkl = PATH_TO_RESULTS + \"fit_\" + MODEL_TO_ANALYSE + \"_\" + TRAINING_SET_SIZE + \"_\" + str(SEED) +  \".pkl\"\n",
    "with open(final_path_to_pkl, \"rb\") as f:\n",
    "    data_dict = pickle.load(f)\n",
    "    fit = data_dict['fit']\n",
    "    y_hat = data_dict['y_hat']\n",
    "    y_test = data_dict['y_test']\n",
    "    X_test = data_dict['X_test']\n",
    "    summary_dict = fit.summary()\n",
    "    sum_df = pd.DataFrame(summary_dict['summary'],\n",
    "                          columns=summary_dict['summary_colnames'],\n",
    "                          index=summary_dict['summary_rownames'])"
   ]
  },
  {
   "cell_type": "code",
   "execution_count": 629,
   "metadata": {},
   "outputs": [],
   "source": [
    "coef_df = sum_df.loc[[\"beta[1,{}]\".format(i+1) for i in range(X_test.shape[1])]]\n",
    "coef_df.index = X_test.columns\n",
    "coef_df[\"Mean/SD\"] = coef_df[\"mean\"] / coef_df[\"sd\"] \n",
    "coef_df = coef_df[[\"mean\", \"sd\", \"Mean/SD\", \"Rhat\"]]\n",
    "coef_df.columns = [\"Mean\", \"SD\", \"Mean/SD\", \"$\\hat{R}$\"]"
   ]
  },
  {
   "cell_type": "code",
   "execution_count": 630,
   "metadata": {},
   "outputs": [
    {
     "data": {
      "text/html": [
       "<div>\n",
       "<style scoped>\n",
       "    .dataframe tbody tr th:only-of-type {\n",
       "        vertical-align: middle;\n",
       "    }\n",
       "\n",
       "    .dataframe tbody tr th {\n",
       "        vertical-align: top;\n",
       "    }\n",
       "\n",
       "    .dataframe thead th {\n",
       "        text-align: right;\n",
       "    }\n",
       "</style>\n",
       "<table border=\"1\" class=\"dataframe\">\n",
       "  <thead>\n",
       "    <tr style=\"text-align: right;\">\n",
       "      <th></th>\n",
       "      <th>Mean</th>\n",
       "      <th>SD</th>\n",
       "      <th>Mean/SD</th>\n",
       "      <th>$\\hat{R}$</th>\n",
       "    </tr>\n",
       "  </thead>\n",
       "  <tbody>\n",
       "    <tr>\n",
       "      <th>production_budget</th>\n",
       "      <td>0.213446</td>\n",
       "      <td>0.001141</td>\n",
       "      <td>187.087810</td>\n",
       "      <td>1.010543</td>\n",
       "    </tr>\n",
       "    <tr>\n",
       "      <th>dist</th>\n",
       "      <td>0.239863</td>\n",
       "      <td>0.002769</td>\n",
       "      <td>86.610974</td>\n",
       "      <td>1.008864</td>\n",
       "    </tr>\n",
       "    <tr>\n",
       "      <th>stars</th>\n",
       "      <td>-0.075764</td>\n",
       "      <td>0.003027</td>\n",
       "      <td>-25.030477</td>\n",
       "      <td>1.011646</td>\n",
       "    </tr>\n",
       "    <tr>\n",
       "      <th>direc</th>\n",
       "      <td>-0.291857</td>\n",
       "      <td>0.003687</td>\n",
       "      <td>-79.168161</td>\n",
       "      <td>1.011035</td>\n",
       "    </tr>\n",
       "    <tr>\n",
       "      <th>screens</th>\n",
       "      <td>0.495853</td>\n",
       "      <td>0.006131</td>\n",
       "      <td>80.872513</td>\n",
       "      <td>1.124037</td>\n",
       "    </tr>\n",
       "    <tr>\n",
       "      <th>opening_weekend_revenue</th>\n",
       "      <td>0.809676</td>\n",
       "      <td>0.001181</td>\n",
       "      <td>685.424683</td>\n",
       "      <td>1.000747</td>\n",
       "    </tr>\n",
       "    <tr>\n",
       "      <th>ratio_pos_tweets</th>\n",
       "      <td>-0.044009</td>\n",
       "      <td>0.006389</td>\n",
       "      <td>-6.888230</td>\n",
       "      <td>1.015851</td>\n",
       "    </tr>\n",
       "    <tr>\n",
       "      <th>total_tweets</th>\n",
       "      <td>0.007244</td>\n",
       "      <td>0.000959</td>\n",
       "      <td>7.551702</td>\n",
       "      <td>1.003432</td>\n",
       "    </tr>\n",
       "    <tr>\n",
       "      <th>adventure</th>\n",
       "      <td>-0.609750</td>\n",
       "      <td>0.004206</td>\n",
       "      <td>-144.978552</td>\n",
       "      <td>1.021754</td>\n",
       "    </tr>\n",
       "    <tr>\n",
       "      <th>comedy</th>\n",
       "      <td>-1.174276</td>\n",
       "      <td>0.005093</td>\n",
       "      <td>-230.547874</td>\n",
       "      <td>1.006859</td>\n",
       "    </tr>\n",
       "    <tr>\n",
       "      <th>drama</th>\n",
       "      <td>-0.760091</td>\n",
       "      <td>0.004815</td>\n",
       "      <td>-157.847472</td>\n",
       "      <td>1.004909</td>\n",
       "    </tr>\n",
       "    <tr>\n",
       "      <th>horror</th>\n",
       "      <td>-0.722684</td>\n",
       "      <td>0.005473</td>\n",
       "      <td>-132.053964</td>\n",
       "      <td>1.012516</td>\n",
       "    </tr>\n",
       "    <tr>\n",
       "      <th>thriller</th>\n",
       "      <td>-0.496075</td>\n",
       "      <td>0.004683</td>\n",
       "      <td>-105.940584</td>\n",
       "      <td>1.005574</td>\n",
       "    </tr>\n",
       "    <tr>\n",
       "      <th>action</th>\n",
       "      <td>-0.796958</td>\n",
       "      <td>0.004122</td>\n",
       "      <td>-193.332940</td>\n",
       "      <td>1.017673</td>\n",
       "    </tr>\n",
       "  </tbody>\n",
       "</table>\n",
       "</div>"
      ],
      "text/plain": [
       "                             Mean        SD     Mean/SD  $\\hat{R}$\n",
       "production_budget        0.213446  0.001141  187.087810   1.010543\n",
       "dist                     0.239863  0.002769   86.610974   1.008864\n",
       "stars                   -0.075764  0.003027  -25.030477   1.011646\n",
       "direc                   -0.291857  0.003687  -79.168161   1.011035\n",
       "screens                  0.495853  0.006131   80.872513   1.124037\n",
       "opening_weekend_revenue  0.809676  0.001181  685.424683   1.000747\n",
       "ratio_pos_tweets        -0.044009  0.006389   -6.888230   1.015851\n",
       "total_tweets             0.007244  0.000959    7.551702   1.003432\n",
       "adventure               -0.609750  0.004206 -144.978552   1.021754\n",
       "comedy                  -1.174276  0.005093 -230.547874   1.006859\n",
       "drama                   -0.760091  0.004815 -157.847472   1.004909\n",
       "horror                  -0.722684  0.005473 -132.053964   1.012516\n",
       "thriller                -0.496075  0.004683 -105.940584   1.005574\n",
       "action                  -0.796958  0.004122 -193.332940   1.017673"
      ]
     },
     "execution_count": 630,
     "metadata": {},
     "output_type": "execute_result"
    }
   ],
   "source": [
    "coef_df"
   ]
  },
  {
   "cell_type": "code",
   "execution_count": 631,
   "metadata": {},
   "outputs": [
    {
     "name": "stdout",
     "output_type": "stream",
     "text": [
      "\\begin{tabular}{lrrrr}\n",
      "\\toprule\n",
      "{} &      Mean &        SD &     Mean/SD &  \\$\\textbackslash hat\\{R\\}\\$ \\\\\n",
      "\\midrule\n",
      "\\textbf{production\\_budget      } &  0.213446 &  0.001141 &  187.087810 &   1.010543 \\\\\n",
      "\\textbf{dist                   } &  0.239863 &  0.002769 &   86.610974 &   1.008864 \\\\\n",
      "\\textbf{stars                  } & -0.075764 &  0.003027 &  -25.030477 &   1.011646 \\\\\n",
      "\\textbf{direc                  } & -0.291857 &  0.003687 &  -79.168161 &   1.011035 \\\\\n",
      "\\textbf{screens                } &  0.495853 &  0.006131 &   80.872513 &   1.124037 \\\\\n",
      "\\textbf{opening\\_weekend\\_revenue} &  0.809676 &  0.001181 &  685.424683 &   1.000747 \\\\\n",
      "\\textbf{ratio\\_pos\\_tweets       } & -0.044009 &  0.006389 &   -6.888230 &   1.015851 \\\\\n",
      "\\textbf{total\\_tweets           } &  0.007244 &  0.000959 &    7.551702 &   1.003432 \\\\\n",
      "\\textbf{adventure              } & -0.609750 &  0.004206 & -144.978552 &   1.021754 \\\\\n",
      "\\textbf{comedy                 } & -1.174276 &  0.005093 & -230.547874 &   1.006859 \\\\\n",
      "\\textbf{drama                  } & -0.760091 &  0.004815 & -157.847472 &   1.004909 \\\\\n",
      "\\textbf{horror                 } & -0.722684 &  0.005473 & -132.053964 &   1.012516 \\\\\n",
      "\\textbf{thriller               } & -0.496075 &  0.004683 & -105.940584 &   1.005574 \\\\\n",
      "\\textbf{action                 } & -0.796958 &  0.004122 & -193.332940 &   1.017673 \\\\\n",
      "\\bottomrule\n",
      "\\end{tabular}\n",
      "\n"
     ]
    }
   ],
   "source": [
    "print(coef_df.to_latex(index=True, bold_rows=True))  "
   ]
  },
  {
   "cell_type": "code",
   "execution_count": 634,
   "metadata": {},
   "outputs": [
    {
     "ename": "ValueError",
     "evalue": "not enough values to unpack (expected 2, got 1)",
     "output_type": "error",
     "traceback": [
      "\u001b[1;31m---------------------------------------------------------------------------\u001b[0m",
      "\u001b[1;31mValueError\u001b[0m                                Traceback (most recent call last)",
      "\u001b[1;32m<ipython-input-634-7aa2eaeb5fa8>\u001b[0m in \u001b[0;36m<module>\u001b[1;34m\u001b[0m\n\u001b[1;32m----> 1\u001b[1;33m \u001b[0mplot_trace\u001b[0m\u001b[1;33m(\u001b[0m\u001b[0mfit\u001b[0m\u001b[1;33m.\u001b[0m\u001b[0mextract\u001b[0m\u001b[1;33m(\u001b[0m\u001b[1;33m)\u001b[0m\u001b[1;33m[\u001b[0m\u001b[1;34m\"beta\"\u001b[0m\u001b[1;33m]\u001b[0m\u001b[1;33m[\u001b[0m\u001b[1;33m:\u001b[0m\u001b[1;33m,\u001b[0m\u001b[1;33m:\u001b[0m\u001b[1;33m,\u001b[0m\u001b[1;36m2\u001b[0m\u001b[1;33m]\u001b[0m\u001b[1;33m)\u001b[0m\u001b[1;33m\u001b[0m\u001b[1;33m\u001b[0m\u001b[0m\n\u001b[0m",
      "\u001b[1;32m~\\Documents\\Uni\\Master\\Data Science\\Probabilistic Modelling\\Implementations\\Repo\\ProbMod\\Python\\helper_func_diagnostics.py\u001b[0m in \u001b[0;36mplot_trace\u001b[1;34m(param, param_name, sim_val)\u001b[0m\n\u001b[0;32m     33\u001b[0m     \u001b[0mplt\u001b[0m\u001b[1;33m.\u001b[0m\u001b[0msubplot\u001b[0m\u001b[1;33m(\u001b[0m\u001b[1;36m2\u001b[0m\u001b[1;33m,\u001b[0m \u001b[1;36m1\u001b[0m\u001b[1;33m,\u001b[0m \u001b[1;36m2\u001b[0m\u001b[1;33m)\u001b[0m\u001b[1;33m\u001b[0m\u001b[1;33m\u001b[0m\u001b[0m\n\u001b[0;32m     34\u001b[0m     \u001b[0mplt\u001b[0m\u001b[1;33m.\u001b[0m\u001b[0mhist\u001b[0m\u001b[1;33m(\u001b[0m\u001b[0mparam\u001b[0m\u001b[1;33m,\u001b[0m \u001b[1;36m30\u001b[0m\u001b[1;33m,\u001b[0m \u001b[0mdensity\u001b[0m\u001b[1;33m=\u001b[0m\u001b[1;32mTrue\u001b[0m\u001b[1;33m)\u001b[0m\u001b[1;33m\u001b[0m\u001b[1;33m\u001b[0m\u001b[0m\n\u001b[1;32m---> 35\u001b[1;33m     \u001b[0msns\u001b[0m\u001b[1;33m.\u001b[0m\u001b[0mkdeplot\u001b[0m\u001b[1;33m(\u001b[0m\u001b[0mparam\u001b[0m\u001b[1;33m,\u001b[0m \u001b[0mshade\u001b[0m\u001b[1;33m=\u001b[0m\u001b[1;32mTrue\u001b[0m\u001b[1;33m)\u001b[0m\u001b[1;33m\u001b[0m\u001b[1;33m\u001b[0m\u001b[0m\n\u001b[0m\u001b[0;32m     36\u001b[0m     \u001b[0mplt\u001b[0m\u001b[1;33m.\u001b[0m\u001b[0mxlabel\u001b[0m\u001b[1;33m(\u001b[0m\u001b[0mparam_name\u001b[0m\u001b[1;33m)\u001b[0m\u001b[1;33m\u001b[0m\u001b[1;33m\u001b[0m\u001b[0m\n\u001b[0;32m     37\u001b[0m     \u001b[0mplt\u001b[0m\u001b[1;33m.\u001b[0m\u001b[0mylabel\u001b[0m\u001b[1;33m(\u001b[0m\u001b[1;34m'density'\u001b[0m\u001b[1;33m)\u001b[0m\u001b[1;33m\u001b[0m\u001b[1;33m\u001b[0m\u001b[0m\n",
      "\u001b[1;32mC:\\ProgramData\\Anaconda3\\envs\\probmod\\lib\\site-packages\\seaborn\\distributions.py\u001b[0m in \u001b[0;36mkdeplot\u001b[1;34m(data, data2, shade, vertical, kernel, bw, gridsize, cut, clip, legend, cumulative, shade_lowest, cbar, cbar_ax, cbar_kws, ax, **kwargs)\u001b[0m\n\u001b[0;32m    673\u001b[0m         \u001b[0mwarn\u001b[0m \u001b[1;33m=\u001b[0m \u001b[1;32mTrue\u001b[0m\u001b[1;33m\u001b[0m\u001b[1;33m\u001b[0m\u001b[0m\n\u001b[0;32m    674\u001b[0m         \u001b[0mbivariate\u001b[0m \u001b[1;33m=\u001b[0m \u001b[1;32mTrue\u001b[0m\u001b[1;33m\u001b[0m\u001b[1;33m\u001b[0m\u001b[0m\n\u001b[1;32m--> 675\u001b[1;33m         \u001b[0mx\u001b[0m\u001b[1;33m,\u001b[0m \u001b[0my\u001b[0m \u001b[1;33m=\u001b[0m \u001b[0mdata\u001b[0m\u001b[1;33m.\u001b[0m\u001b[0mT\u001b[0m\u001b[1;33m\u001b[0m\u001b[1;33m\u001b[0m\u001b[0m\n\u001b[0m\u001b[0;32m    676\u001b[0m     \u001b[1;32melif\u001b[0m \u001b[0misinstance\u001b[0m\u001b[1;33m(\u001b[0m\u001b[0mdata\u001b[0m\u001b[1;33m,\u001b[0m \u001b[0mpd\u001b[0m\u001b[1;33m.\u001b[0m\u001b[0mDataFrame\u001b[0m\u001b[1;33m)\u001b[0m \u001b[1;32mand\u001b[0m \u001b[0mnp\u001b[0m\u001b[1;33m.\u001b[0m\u001b[0mndim\u001b[0m\u001b[1;33m(\u001b[0m\u001b[0mdata\u001b[0m\u001b[1;33m)\u001b[0m \u001b[1;33m>\u001b[0m \u001b[1;36m1\u001b[0m\u001b[1;33m:\u001b[0m\u001b[1;33m\u001b[0m\u001b[1;33m\u001b[0m\u001b[0m\n\u001b[0;32m    677\u001b[0m         \u001b[0mwarn\u001b[0m \u001b[1;33m=\u001b[0m \u001b[1;32mTrue\u001b[0m\u001b[1;33m\u001b[0m\u001b[1;33m\u001b[0m\u001b[0m\n",
      "\u001b[1;31mValueError\u001b[0m: not enough values to unpack (expected 2, got 1)"
     ]
    },
    {
     "data": {
      "image/png": "[encoded data removed]",
      "text/plain": [
       "<Figure size 432x288 with 2 Axes>"
      ]
     },
     "metadata": {
      "needs_background": "light"
     },
     "output_type": "display_data"
    }
   ],
   "source": [
    "plot_trace(fit.extract()[\"beta\"][:,:,2])"
   ]
  },
  {
   "cell_type": "markdown",
   "metadata": {},
   "source": [
    "# Analysis of $\\mu_\\beta$"
   ]
  },
  {
   "cell_type": "code",
   "execution_count": 578,
   "metadata": {},
   "outputs": [],
   "source": [
    "PATH_TO_RESULTS = \"../results/\"\n",
    "MODEL_TO_ANALYSE = \"pred_base\"\n",
    "TRAINING_SET_SIZE = \"180\"\n",
    "SEED = 1348"
   ]
  },
  {
   "cell_type": "code",
   "execution_count": 579,
   "metadata": {},
   "outputs": [],
   "source": [
    "final_path_to_pkl = PATH_TO_RESULTS + \"fit_\" + MODEL_TO_ANALYSE + \"_\" + TRAINING_SET_SIZE + \"_\" + str(SEED) +  \".pkl\"\n",
    "with open(final_path_to_pkl, \"rb\") as f:\n",
    "    data_dict = pickle.load(f)\n",
    "    fit = data_dict['fit']\n",
    "    y_hat = data_dict['y_hat']\n",
    "    y_test = data_dict['y_test']\n",
    "    X_test = data_dict['X_test']\n",
    "    summary_dict = fit.summary()\n",
    "    sum_df = pd.DataFrame(summary_dict['summary'],\n",
    "                          columns=summary_dict['summary_colnames'],\n",
    "                          index=summary_dict['summary_rownames'])"
   ]
  },
  {
   "cell_type": "code",
   "execution_count": 580,
   "metadata": {},
   "outputs": [],
   "source": [
    "coef_df = sum_df.loc[[\"mu_beta[{}]\".format(i+1) for i in range(X_test.shape[1])]]"
   ]
  },
  {
   "cell_type": "code",
   "execution_count": 581,
   "metadata": {},
   "outputs": [],
   "source": [
    "coef_df.index = X_test.columns\n",
    "coef_df[\"Mean/SD\"] = coef_df[\"mean\"] / coef_df[\"sd\"] \n",
    "coef_df = coef_df[[\"mean\", \"sd\", \"Mean/SD\", \"Rhat\"]]\n",
    "coef_df.columns = [\"Mean\", \"SD\", \"Mean/SD\", \"$\\hat{R}$\"]"
   ]
  },
  {
   "cell_type": "code",
   "execution_count": 582,
   "metadata": {},
   "outputs": [
    {
     "data": {
      "text/html": [
       "<div>\n",
       "<style scoped>\n",
       "    .dataframe tbody tr th:only-of-type {\n",
       "        vertical-align: middle;\n",
       "    }\n",
       "\n",
       "    .dataframe tbody tr th {\n",
       "        vertical-align: top;\n",
       "    }\n",
       "\n",
       "    .dataframe thead th {\n",
       "        text-align: right;\n",
       "    }\n",
       "</style>\n",
       "<table border=\"1\" class=\"dataframe\">\n",
       "  <thead>\n",
       "    <tr style=\"text-align: right;\">\n",
       "      <th></th>\n",
       "      <th>Mean</th>\n",
       "      <th>SD</th>\n",
       "      <th>Mean/SD</th>\n",
       "      <th>$\\hat{R}$</th>\n",
       "    </tr>\n",
       "  </thead>\n",
       "  <tbody>\n",
       "    <tr>\n",
       "      <th>production_budget</th>\n",
       "      <td>0.143841</td>\n",
       "      <td>1.362356</td>\n",
       "      <td>0.105582</td>\n",
       "      <td>22.112272</td>\n",
       "    </tr>\n",
       "    <tr>\n",
       "      <th>dist</th>\n",
       "      <td>-1.363194</td>\n",
       "      <td>0.529611</td>\n",
       "      <td>-2.573956</td>\n",
       "      <td>2.342765</td>\n",
       "    </tr>\n",
       "    <tr>\n",
       "      <th>stars</th>\n",
       "      <td>-0.229809</td>\n",
       "      <td>1.298211</td>\n",
       "      <td>-0.177020</td>\n",
       "      <td>20.735867</td>\n",
       "    </tr>\n",
       "    <tr>\n",
       "      <th>direc</th>\n",
       "      <td>-0.550113</td>\n",
       "      <td>1.348893</td>\n",
       "      <td>-0.407826</td>\n",
       "      <td>11.281642</td>\n",
       "    </tr>\n",
       "    <tr>\n",
       "      <th>screens</th>\n",
       "      <td>0.371198</td>\n",
       "      <td>0.794222</td>\n",
       "      <td>0.467374</td>\n",
       "      <td>9.333156</td>\n",
       "    </tr>\n",
       "    <tr>\n",
       "      <th>opening_weekend_revenue</th>\n",
       "      <td>0.678425</td>\n",
       "      <td>0.951702</td>\n",
       "      <td>0.712854</td>\n",
       "      <td>12.968035</td>\n",
       "    </tr>\n",
       "    <tr>\n",
       "      <th>ratio_pos_tweets</th>\n",
       "      <td>0.472755</td>\n",
       "      <td>0.700838</td>\n",
       "      <td>0.674557</td>\n",
       "      <td>15.491554</td>\n",
       "    </tr>\n",
       "    <tr>\n",
       "      <th>total_tweets</th>\n",
       "      <td>-0.443813</td>\n",
       "      <td>1.221221</td>\n",
       "      <td>-0.363417</td>\n",
       "      <td>20.692238</td>\n",
       "    </tr>\n",
       "    <tr>\n",
       "      <th>adventure</th>\n",
       "      <td>0.354436</td>\n",
       "      <td>0.631391</td>\n",
       "      <td>0.561357</td>\n",
       "      <td>9.401775</td>\n",
       "    </tr>\n",
       "    <tr>\n",
       "      <th>comedy</th>\n",
       "      <td>-0.108590</td>\n",
       "      <td>0.605520</td>\n",
       "      <td>-0.179333</td>\n",
       "      <td>6.721272</td>\n",
       "    </tr>\n",
       "    <tr>\n",
       "      <th>drama</th>\n",
       "      <td>-0.191443</td>\n",
       "      <td>1.396611</td>\n",
       "      <td>-0.137077</td>\n",
       "      <td>26.315486</td>\n",
       "    </tr>\n",
       "    <tr>\n",
       "      <th>horror</th>\n",
       "      <td>-0.963976</td>\n",
       "      <td>1.610326</td>\n",
       "      <td>-0.598621</td>\n",
       "      <td>33.103825</td>\n",
       "    </tr>\n",
       "    <tr>\n",
       "      <th>thriller</th>\n",
       "      <td>-1.185547</td>\n",
       "      <td>0.405050</td>\n",
       "      <td>-2.926913</td>\n",
       "      <td>4.755353</td>\n",
       "    </tr>\n",
       "    <tr>\n",
       "      <th>action</th>\n",
       "      <td>0.019994</td>\n",
       "      <td>1.207771</td>\n",
       "      <td>0.016554</td>\n",
       "      <td>15.492694</td>\n",
       "    </tr>\n",
       "    <tr>\n",
       "      <th>dec</th>\n",
       "      <td>-0.447941</td>\n",
       "      <td>0.807174</td>\n",
       "      <td>-0.554950</td>\n",
       "      <td>4.134471</td>\n",
       "    </tr>\n",
       "    <tr>\n",
       "      <th>romcomedy</th>\n",
       "      <td>-0.158949</td>\n",
       "      <td>1.055568</td>\n",
       "      <td>-0.150581</td>\n",
       "      <td>9.672994</td>\n",
       "    </tr>\n",
       "  </tbody>\n",
       "</table>\n",
       "</div>"
      ],
      "text/plain": [
       "                             Mean        SD   Mean/SD  $\\hat{R}$\n",
       "production_budget        0.143841  1.362356  0.105582  22.112272\n",
       "dist                    -1.363194  0.529611 -2.573956   2.342765\n",
       "stars                   -0.229809  1.298211 -0.177020  20.735867\n",
       "direc                   -0.550113  1.348893 -0.407826  11.281642\n",
       "screens                  0.371198  0.794222  0.467374   9.333156\n",
       "opening_weekend_revenue  0.678425  0.951702  0.712854  12.968035\n",
       "ratio_pos_tweets         0.472755  0.700838  0.674557  15.491554\n",
       "total_tweets            -0.443813  1.221221 -0.363417  20.692238\n",
       "adventure                0.354436  0.631391  0.561357   9.401775\n",
       "comedy                  -0.108590  0.605520 -0.179333   6.721272\n",
       "drama                   -0.191443  1.396611 -0.137077  26.315486\n",
       "horror                  -0.963976  1.610326 -0.598621  33.103825\n",
       "thriller                -1.185547  0.405050 -2.926913   4.755353\n",
       "action                   0.019994  1.207771  0.016554  15.492694\n",
       "dec                     -0.447941  0.807174 -0.554950   4.134471\n",
       "romcomedy               -0.158949  1.055568 -0.150581   9.672994"
      ]
     },
     "execution_count": 582,
     "metadata": {},
     "output_type": "execute_result"
    }
   ],
   "source": [
    "coef_df"
   ]
  },
  {
   "cell_type": "code",
   "execution_count": null,
   "metadata": {},
   "outputs": [],
   "source": []
  }
 ],
 "metadata": {
  "kernelspec": {
   "display_name": "Python 3",
   "language": "python",
   "name": "python3"
  },
  "language_info": {
   "codemirror_mode": {
    "name": "ipython",
    "version": 3
   },
   "file_extension": ".py",
   "mimetype": "text/x-python",
   "name": "python",
   "nbconvert_exporter": "python",
   "pygments_lexer": "ipython3",
   "version": "3.7.6"
  }
 },
 "nbformat": 4,
 "nbformat_minor": 2
}
